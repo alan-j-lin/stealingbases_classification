{
 "cells": [
  {
   "cell_type": "markdown",
   "metadata": {},
   "source": [
    "### Libraries"
   ]
  },
  {
   "cell_type": "code",
   "execution_count": 1,
   "metadata": {
    "ExecuteTime": {
     "end_time": "2018-07-27T00:10:20.848360Z",
     "start_time": "2018-07-27T00:10:20.076990Z"
    }
   },
   "outputs": [],
   "source": [
    "import psycopg2 as pg\n",
    "import pandas as pd\n",
    "import pandas.io.sql as pd_sql\n",
    "import numpy as np"
   ]
  },
  {
   "cell_type": "code",
   "execution_count": 2,
   "metadata": {
    "ExecuteTime": {
     "end_time": "2018-07-27T00:10:22.098564Z",
     "start_time": "2018-07-27T00:10:21.594647Z"
    }
   },
   "outputs": [],
   "source": [
    "connection_args = {\n",
    "    'host': '18.191.175.185', # You'll have to update this to your IP\n",
    "    'user': 'ubuntu',    # username\n",
    "    'dbname': 'mcnulty',   # DB that we are connecting to\n",
    "    'port': 5432         # port we opened on AWS\n",
    "}\n",
    "connection = pg.connect(**connection_args)\n",
    "cursor = connection.cursor()"
   ]
  },
  {
   "cell_type": "markdown",
   "metadata": {
    "heading_collapsed": true
   },
   "source": [
    "### Create Tables"
   ]
  },
  {
   "cell_type": "markdown",
   "metadata": {
    "hidden": true
   },
   "source": [
    "Autopopulate the create table query with the proper column names and column types from the table schema file:"
   ]
  },
  {
   "cell_type": "code",
   "execution_count": null,
   "metadata": {
    "ExecuteTime": {
     "end_time": "2018-07-26T23:05:44.900726Z",
     "start_time": "2018-07-26T23:05:44.886588Z"
    },
    "hidden": true
   },
   "outputs": [],
   "source": [
    "with open('./Data/gw_tblschema.csv', mode = 'r') as filename:\n",
    "    cols = filename.read()\n",
    "    filename.close()\n",
    "    \n",
    "cols_list = [i.split(',')[1:3] for i in cols.split('\\n')[1:-1]]\n",
    "cols_text = ''\n",
    "for i, txt in enumerate(cols_list):\n",
    "    name = txt[0]\n",
    "    col_type = txt[1]\n",
    "    if col_type == 'STRING':\n",
    "        col_type = 'TEXT'\n",
    "    elif col_type == 'INTEGER':\n",
    "        col_type = 'INT'\n",
    "        \n",
    "    if i == len(cols_list) - 1:\n",
    "        cols_text += f'{name} {col_type}'\n",
    "    else:\n",
    "        cols_text += f'{name} {col_type}, '"
   ]
  },
  {
   "cell_type": "markdown",
   "metadata": {
    "hidden": true
   },
   "source": [
    "Create baseball and gamepostwide tables in the SQL server:"
   ]
  },
  {
   "cell_type": "code",
   "execution_count": null,
   "metadata": {
    "ExecuteTime": {
     "end_time": "2018-07-26T23:07:25.672840Z",
     "start_time": "2018-07-26T23:07:25.669824Z"
    },
    "hidden": true
   },
   "outputs": [],
   "source": [
    "create_tblquery = f\"\"\" \n",
    "    CREATE TABLE baseball(\n",
    "        row INT, \n",
    "        {cols_text}\n",
    "    );\"\"\"\n",
    "\n",
    "create_postwidetablequery = f\"\"\" \n",
    "    CREATE TABLE gamepostwide(\n",
    "        row INT, \n",
    "        {cols_text}\n",
    "    );\"\"\"\n",
    "\n",
    "# cursor.execute('BEGIN;')\n",
    "# cursor.execute(create_tblquery)\n",
    "# cursor.execute(create_postwidetablequery)\n",
    "# cursor.execute('commit;')"
   ]
  },
  {
   "cell_type": "markdown",
   "metadata": {},
   "source": [
    "### EDA"
   ]
  },
  {
   "cell_type": "code",
   "execution_count": null,
   "metadata": {
    "ExecuteTime": {
     "end_time": "2018-07-26T21:19:59.694638Z",
     "start_time": "2018-07-26T21:19:59.156778Z"
    }
   },
   "outputs": [],
   "source": [
    "gw1_df['is_steal'] = gw1_df['description'].apply(lambda x: 0 if (type(x) != str or 'steal' not in x) else 1)\n",
    "gw2_df['is_steal'] = gw2_df['description'].apply(lambda x: 0 if (type(x) != str or 'steal' not in x) else 1)\n",
    "gw3_df['is_steal'] = gw3_df['description'].apply(lambda x: 0 if (type(x) != str or 'steal' not in x) else 1)"
   ]
  },
  {
   "cell_type": "code",
   "execution_count": null,
   "metadata": {
    "ExecuteTime": {
     "end_time": "2018-07-26T23:34:41.681780Z",
     "start_time": "2018-07-26T23:34:41.559987Z"
    }
   },
   "outputs": [],
   "source": [
    "cursor.execute('BEGIN;')\n",
    "cursor.close()\n",
    "connection.close()"
   ]
  },
  {
   "cell_type": "code",
   "execution_count": null,
   "metadata": {
    "ExecuteTime": {
     "end_time": "2018-07-26T23:48:32.028968Z",
     "start_time": "2018-07-26T23:48:00.554211Z"
    }
   },
   "outputs": [],
   "source": [
    "query = \"\"\"\n",
    "    SELECT description\n",
    "    FROM baseball\n",
    "    WHERE description LIKE '%steal%'\n",
    "    GROUP BY gameid, description\n",
    "\"\"\"\n",
    "steal_df = pd_sql.read_sql(query, connection)"
   ]
  },
  {
   "cell_type": "code",
   "execution_count": null,
   "metadata": {
    "ExecuteTime": {
     "end_time": "2018-07-26T23:50:13.202529Z",
     "start_time": "2018-07-26T23:50:13.192178Z"
    }
   },
   "outputs": [],
   "source": [
    "steal_df.values"
   ]
  },
  {
   "cell_type": "code",
   "execution_count": 41,
   "metadata": {
    "ExecuteTime": {
     "end_time": "2018-07-27T01:38:24.200098Z",
     "start_time": "2018-07-27T01:37:59.900735Z"
    }
   },
   "outputs": [],
   "source": [
    "desc_query = \"\"\"\n",
    "    SELECT *\n",
    "    FROM baseball\n",
    "    WHERE rob1_outcomeid LIKE '%B%' OR rob2_outcomeid LIKE '%B%' OR rob3_outcomeid LIKE '%B%'\n",
    "\"\"\"\n",
    "desc_df = pd_sql.read_sql(desc_query, connection)"
   ]
  },
  {
   "cell_type": "code",
   "execution_count": 47,
   "metadata": {
    "ExecuteTime": {
     "end_time": "2018-07-27T01:41:13.296028Z",
     "start_time": "2018-07-27T01:41:13.277393Z"
    }
   },
   "outputs": [
    {
     "data": {
      "text/html": [
       "<div>\n",
       "<style scoped>\n",
       "    .dataframe tbody tr th:only-of-type {\n",
       "        vertical-align: middle;\n",
       "    }\n",
       "\n",
       "    .dataframe tbody tr th {\n",
       "        vertical-align: top;\n",
       "    }\n",
       "\n",
       "    .dataframe thead th {\n",
       "        text-align: right;\n",
       "    }\n",
       "</style>\n",
       "<table border=\"1\" class=\"dataframe\">\n",
       "  <thead>\n",
       "    <tr style=\"text-align: right;\">\n",
       "      <th></th>\n",
       "      <th>95</th>\n",
       "    </tr>\n",
       "  </thead>\n",
       "  <tbody>\n",
       "    <tr>\n",
       "      <th>awayfinalrunsforinning</th>\n",
       "      <td>0</td>\n",
       "    </tr>\n",
       "    <tr>\n",
       "      <th>inningnumber</th>\n",
       "      <td>3</td>\n",
       "    </tr>\n",
       "    <tr>\n",
       "      <th>inninghalf</th>\n",
       "      <td>BOT</td>\n",
       "    </tr>\n",
       "    <tr>\n",
       "      <th>inningeventtype</th>\n",
       "      <td>AT_BAT</td>\n",
       "    </tr>\n",
       "    <tr>\n",
       "      <th>inninghalfeventsequencenumber</th>\n",
       "      <td>3</td>\n",
       "    </tr>\n",
       "    <tr>\n",
       "      <th>description</th>\n",
       "      <td>Marcus Semien called out on strikes.</td>\n",
       "    </tr>\n",
       "    <tr>\n",
       "      <th>atbateventtype</th>\n",
       "      <td>PITCH</td>\n",
       "    </tr>\n",
       "    <tr>\n",
       "      <th>atbateventsequencenumber</th>\n",
       "      <td>2</td>\n",
       "    </tr>\n",
       "    <tr>\n",
       "      <th>createdat</th>\n",
       "      <td>2016-09-07 20:27:11</td>\n",
       "    </tr>\n",
       "    <tr>\n",
       "      <th>updatedat</th>\n",
       "      <td>2016-09-07 20:27:15</td>\n",
       "    </tr>\n",
       "    <tr>\n",
       "      <th>status</th>\n",
       "      <td>official</td>\n",
       "    </tr>\n",
       "    <tr>\n",
       "      <th>outcomeid</th>\n",
       "      <td>kKS</td>\n",
       "    </tr>\n",
       "    <tr>\n",
       "      <th>outcomedescription</th>\n",
       "      <td>Strike Swinging</td>\n",
       "    </tr>\n",
       "    <tr>\n",
       "      <th>hitterid</th>\n",
       "      <td>c2d72221-932c-4155-9121-eaa87cfed176</td>\n",
       "    </tr>\n",
       "    <tr>\n",
       "      <th>hitterlastname</th>\n",
       "      <td>Semien</td>\n",
       "    </tr>\n",
       "    <tr>\n",
       "      <th>hitterfirstname</th>\n",
       "      <td>Marcus</td>\n",
       "    </tr>\n",
       "    <tr>\n",
       "      <th>hitterweight</th>\n",
       "      <td>195</td>\n",
       "    </tr>\n",
       "    <tr>\n",
       "      <th>hitterheight</th>\n",
       "      <td>72</td>\n",
       "    </tr>\n",
       "    <tr>\n",
       "      <th>hitterbathand</th>\n",
       "      <td>R</td>\n",
       "    </tr>\n",
       "    <tr>\n",
       "      <th>pitcherid</th>\n",
       "      <td>02dee83c-dd03-40bf-ba83-fc9259045210</td>\n",
       "    </tr>\n",
       "    <tr>\n",
       "      <th>pitcherfirstname</th>\n",
       "      <td>Alex</td>\n",
       "    </tr>\n",
       "    <tr>\n",
       "      <th>pitcherlastname</th>\n",
       "      <td>Meyer</td>\n",
       "    </tr>\n",
       "    <tr>\n",
       "      <th>pitcherthrowhand</th>\n",
       "      <td>R</td>\n",
       "    </tr>\n",
       "    <tr>\n",
       "      <th>pitchtype</th>\n",
       "      <td>FA</td>\n",
       "    </tr>\n",
       "    <tr>\n",
       "      <th>pitchtypedescription</th>\n",
       "      <td>Fastball</td>\n",
       "    </tr>\n",
       "    <tr>\n",
       "      <th>pitchspeed</th>\n",
       "      <td>95</td>\n",
       "    </tr>\n",
       "    <tr>\n",
       "      <th>pitchzone</th>\n",
       "      <td>11</td>\n",
       "    </tr>\n",
       "    <tr>\n",
       "      <th>pitcherpitchcount</th>\n",
       "      <td>45</td>\n",
       "    </tr>\n",
       "    <tr>\n",
       "      <th>hitterpitchcount</th>\n",
       "      <td>2</td>\n",
       "    </tr>\n",
       "    <tr>\n",
       "      <th>hitlocation</th>\n",
       "      <td>0</td>\n",
       "    </tr>\n",
       "    <tr>\n",
       "      <th>hittype</th>\n",
       "      <td>None</td>\n",
       "    </tr>\n",
       "    <tr>\n",
       "      <th>startingballs</th>\n",
       "      <td>1</td>\n",
       "    </tr>\n",
       "    <tr>\n",
       "      <th>startingstrikes</th>\n",
       "      <td>0</td>\n",
       "    </tr>\n",
       "    <tr>\n",
       "      <th>startingouts</th>\n",
       "      <td>1</td>\n",
       "    </tr>\n",
       "    <tr>\n",
       "      <th>balls</th>\n",
       "      <td>1</td>\n",
       "    </tr>\n",
       "    <tr>\n",
       "      <th>strikes</th>\n",
       "      <td>1</td>\n",
       "    </tr>\n",
       "    <tr>\n",
       "      <th>outs</th>\n",
       "      <td>1</td>\n",
       "    </tr>\n",
       "    <tr>\n",
       "      <th>rob0_start</th>\n",
       "      <td>None</td>\n",
       "    </tr>\n",
       "    <tr>\n",
       "      <th>rob0_end</th>\n",
       "      <td>0</td>\n",
       "    </tr>\n",
       "    <tr>\n",
       "      <th>rob0_isout</th>\n",
       "      <td>false</td>\n",
       "    </tr>\n",
       "    <tr>\n",
       "      <th>rob0_outcomeid</th>\n",
       "      <td>None</td>\n",
       "    </tr>\n",
       "    <tr>\n",
       "      <th>rob0_outcomedescription</th>\n",
       "      <td>None</td>\n",
       "    </tr>\n",
       "    <tr>\n",
       "      <th>rob1_start</th>\n",
       "      <td>9550b18e-bb43-4c41-bac6-1d242f29ca41</td>\n",
       "    </tr>\n",
       "    <tr>\n",
       "      <th>rob1_end</th>\n",
       "      <td>2</td>\n",
       "    </tr>\n",
       "    <tr>\n",
       "      <th>rob1_isout</th>\n",
       "      <td>false</td>\n",
       "    </tr>\n",
       "    <tr>\n",
       "      <th>rob1_outcomeid</th>\n",
       "      <td>SB2</td>\n",
       "    </tr>\n",
       "    <tr>\n",
       "      <th>rob1_outcomedescription</th>\n",
       "      <td>Joey Wendle steals second.</td>\n",
       "    </tr>\n",
       "    <tr>\n",
       "      <th>rob2_start</th>\n",
       "      <td>None</td>\n",
       "    </tr>\n",
       "    <tr>\n",
       "      <th>rob2_end</th>\n",
       "      <td>0</td>\n",
       "    </tr>\n",
       "    <tr>\n",
       "      <th>rob2_isout</th>\n",
       "      <td>false</td>\n",
       "    </tr>\n",
       "    <tr>\n",
       "      <th>rob2_outcomeid</th>\n",
       "      <td>None</td>\n",
       "    </tr>\n",
       "    <tr>\n",
       "      <th>rob2_outcomedescription</th>\n",
       "      <td>None</td>\n",
       "    </tr>\n",
       "    <tr>\n",
       "      <th>rob3_start</th>\n",
       "      <td>None</td>\n",
       "    </tr>\n",
       "    <tr>\n",
       "      <th>rob3_end</th>\n",
       "      <td>0</td>\n",
       "    </tr>\n",
       "    <tr>\n",
       "      <th>rob3_isout</th>\n",
       "      <td>false</td>\n",
       "    </tr>\n",
       "    <tr>\n",
       "      <th>rob3_outcomeid</th>\n",
       "      <td>None</td>\n",
       "    </tr>\n",
       "    <tr>\n",
       "      <th>rob3_outcomedescription</th>\n",
       "      <td>None</td>\n",
       "    </tr>\n",
       "    <tr>\n",
       "      <th>is_ab</th>\n",
       "      <td>0</td>\n",
       "    </tr>\n",
       "    <tr>\n",
       "      <th>is_ab_over</th>\n",
       "      <td>0</td>\n",
       "    </tr>\n",
       "    <tr>\n",
       "      <th>is_hit</th>\n",
       "      <td>0</td>\n",
       "    </tr>\n",
       "  </tbody>\n",
       "</table>\n",
       "</div>"
      ],
      "text/plain": [
       "                                                                 95\n",
       "awayfinalrunsforinning                                            0\n",
       "inningnumber                                                      3\n",
       "inninghalf                                                      BOT\n",
       "inningeventtype                                              AT_BAT\n",
       "inninghalfeventsequencenumber                                     3\n",
       "description                    Marcus Semien called out on strikes.\n",
       "atbateventtype                                                PITCH\n",
       "atbateventsequencenumber                                          2\n",
       "createdat                                       2016-09-07 20:27:11\n",
       "updatedat                                       2016-09-07 20:27:15\n",
       "status                                                     official\n",
       "outcomeid                                                       kKS\n",
       "outcomedescription                                  Strike Swinging\n",
       "hitterid                       c2d72221-932c-4155-9121-eaa87cfed176\n",
       "hitterlastname                                               Semien\n",
       "hitterfirstname                                              Marcus\n",
       "hitterweight                                                    195\n",
       "hitterheight                                                     72\n",
       "hitterbathand                                                     R\n",
       "pitcherid                      02dee83c-dd03-40bf-ba83-fc9259045210\n",
       "pitcherfirstname                                               Alex\n",
       "pitcherlastname                                               Meyer\n",
       "pitcherthrowhand                                                  R\n",
       "pitchtype                                                        FA\n",
       "pitchtypedescription                                       Fastball\n",
       "pitchspeed                                                       95\n",
       "pitchzone                                                        11\n",
       "pitcherpitchcount                                                45\n",
       "hitterpitchcount                                                  2\n",
       "hitlocation                                                       0\n",
       "hittype                                                        None\n",
       "startingballs                                                     1\n",
       "startingstrikes                                                   0\n",
       "startingouts                                                      1\n",
       "balls                                                             1\n",
       "strikes                                                           1\n",
       "outs                                                              1\n",
       "rob0_start                                                     None\n",
       "rob0_end                                                          0\n",
       "rob0_isout                                                    false\n",
       "rob0_outcomeid                                                 None\n",
       "rob0_outcomedescription                                        None\n",
       "rob1_start                     9550b18e-bb43-4c41-bac6-1d242f29ca41\n",
       "rob1_end                                                          2\n",
       "rob1_isout                                                    false\n",
       "rob1_outcomeid                                                  SB2\n",
       "rob1_outcomedescription                  Joey Wendle steals second.\n",
       "rob2_start                                                     None\n",
       "rob2_end                                                          0\n",
       "rob2_isout                                                    false\n",
       "rob2_outcomeid                                                 None\n",
       "rob2_outcomedescription                                        None\n",
       "rob3_start                                                     None\n",
       "rob3_end                                                          0\n",
       "rob3_isout                                                    false\n",
       "rob3_outcomeid                                                 None\n",
       "rob3_outcomedescription                                        None\n",
       "is_ab                                                             0\n",
       "is_ab_over                                                        0\n",
       "is_hit                                                            0"
      ]
     },
     "execution_count": 47,
     "metadata": {},
     "output_type": "execute_result"
    }
   ],
   "source": [
    "x = desc_df[desc_df['description'] == 'Marcus Semien called out on strikes.'].T\n",
    "x.iloc[30:90]"
   ]
  },
  {
   "cell_type": "code",
   "execution_count": 29,
   "metadata": {
    "ExecuteTime": {
     "end_time": "2018-07-27T01:08:41.678363Z",
     "start_time": "2018-07-27T01:08:41.671955Z"
    }
   },
   "outputs": [
    {
     "name": "stdout",
     "output_type": "stream",
     "text": [
      "['Scooter Gennett strikes out swinging. Jonathan Villar caught stealing third.']\n",
      "['Orlando Arcia strikes out swinging. Jonathan Villar steals second.']\n",
      "['Jonathan Villar strikes out swinging. Jake Elmore caught stealing second.']\n",
      "['Ryan Braun strikes out swinging. Jonathan Villar caught stealing second.']\n",
      "['Scooter Gennett called out on strikes. Jonathan Villar steals second.']\n"
     ]
    }
   ],
   "source": [
    "for i in desc_df.values:\n",
    "    if i[0].find('steal') > 0:\n",
    "        print(i)"
   ]
  },
  {
   "cell_type": "code",
   "execution_count": null,
   "metadata": {},
   "outputs": [],
   "source": [
    "str.find()"
   ]
  },
  {
   "cell_type": "code",
   "execution_count": null,
   "metadata": {
    "ExecuteTime": {
     "end_time": "2018-07-27T00:05:01.101612Z",
     "start_time": "2018-07-27T00:05:00.929624Z"
    }
   },
   "outputs": [],
   "source": [
    "len(desc_df['description'].unique())"
   ]
  }
 ],
 "metadata": {
  "kernelspec": {
   "display_name": "Python 3",
   "language": "python",
   "name": "python3"
  },
  "language_info": {
   "codemirror_mode": {
    "name": "ipython",
    "version": 3
   },
   "file_extension": ".py",
   "mimetype": "text/x-python",
   "name": "python",
   "nbconvert_exporter": "python",
   "pygments_lexer": "ipython3",
   "version": "3.6.5"
  },
  "varInspector": {
   "cols": {
    "lenName": 16,
    "lenType": 16,
    "lenVar": 40
   },
   "kernels_config": {
    "python": {
     "delete_cmd_postfix": "",
     "delete_cmd_prefix": "del ",
     "library": "var_list.py",
     "varRefreshCmd": "print(var_dic_list())"
    },
    "r": {
     "delete_cmd_postfix": ") ",
     "delete_cmd_prefix": "rm(",
     "library": "var_list.r",
     "varRefreshCmd": "cat(var_dic_list()) "
    }
   },
   "types_to_exclude": [
    "module",
    "function",
    "builtin_function_or_method",
    "instance",
    "_Feature"
   ],
   "window_display": false
  }
 },
 "nbformat": 4,
 "nbformat_minor": 2
}
