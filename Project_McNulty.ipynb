{
 "cells": [
  {
   "cell_type": "markdown",
   "metadata": {},
   "source": [
    "### Libraries"
   ]
  },
  {
   "cell_type": "code",
   "execution_count": 163,
   "metadata": {
    "ExecuteTime": {
     "end_time": "2018-07-31T17:03:03.955194Z",
     "start_time": "2018-07-31T17:03:03.949790Z"
    }
   },
   "outputs": [],
   "source": [
    "import psycopg2 as pg\n",
    "import pandas as pd\n",
    "import pandas.io.sql as pd_sql\n",
    "import numpy as np\n",
    "import matplotlib.pyplot as plt\n",
    "from sklearn.model_selection import train_test_split, GridSearchCV, cross_val_score, learning_curve\n",
    "from sklearn.preprocessing import StandardScaler\n",
    "from sklearn.linear_model import LogisticRegression\n",
    "from sklearn.metrics import accuracy_score, precision_score, roc_curve, roc_auc_score, confusion_matrix\n",
    "from sklearn.dummy import DummyClassifier\n",
    "from copy import deepcopy"
   ]
  },
  {
   "cell_type": "code",
   "execution_count": 2,
   "metadata": {
    "ExecuteTime": {
     "end_time": "2018-07-30T22:46:36.057573Z",
     "start_time": "2018-07-30T22:46:35.559615Z"
    }
   },
   "outputs": [],
   "source": [
    "connection_args = {\n",
    "    'host': '18.191.175.185', # You'll have to update this to your IP\n",
    "    'user': 'ubuntu',    # username\n",
    "    'dbname': 'mcnulty',   # DB that we are connecting to\n",
    "    'port': 5432         # port we opened on AWS\n",
    "}\n",
    "connection = pg.connect(**connection_args)\n",
    "cursor = connection.cursor()"
   ]
  },
  {
   "cell_type": "markdown",
   "metadata": {
    "heading_collapsed": true
   },
   "source": [
    "### Create Tables"
   ]
  },
  {
   "cell_type": "markdown",
   "metadata": {
    "hidden": true
   },
   "source": [
    "Autopopulate the create table query with the proper column names and column types from the table schema file:"
   ]
  },
  {
   "cell_type": "code",
   "execution_count": null,
   "metadata": {
    "ExecuteTime": {
     "end_time": "2018-07-26T23:05:44.900726Z",
     "start_time": "2018-07-26T23:05:44.886588Z"
    },
    "hidden": true
   },
   "outputs": [],
   "source": [
    "with open('./Data/gw_tblschema.csv', mode = 'r') as filename:\n",
    "    cols = filename.read()\n",
    "    filename.close()\n",
    "    \n",
    "cols_list = [i.split(',')[1:3] for i in cols.split('\\n')[1:-1]]\n",
    "cols_text = ''\n",
    "for i, txt in enumerate(cols_list):\n",
    "    name = txt[0]\n",
    "    col_type = txt[1]\n",
    "    if col_type == 'STRING':\n",
    "        col_type = 'TEXT'\n",
    "    elif col_type == 'INTEGER':\n",
    "        col_type = 'INT'\n",
    "        \n",
    "    if i == len(cols_list) - 1:\n",
    "        cols_text += f'{name} {col_type}'\n",
    "    else:\n",
    "        cols_text += f'{name} {col_type}, '"
   ]
  },
  {
   "cell_type": "markdown",
   "metadata": {
    "hidden": true
   },
   "source": [
    "Create baseball and gamepostwide tables in the SQL server:"
   ]
  },
  {
   "cell_type": "code",
   "execution_count": null,
   "metadata": {
    "ExecuteTime": {
     "end_time": "2018-07-26T23:07:25.672840Z",
     "start_time": "2018-07-26T23:07:25.669824Z"
    },
    "hidden": true
   },
   "outputs": [],
   "source": [
    "create_tblquery = f\"\"\" \n",
    "    CREATE TABLE baseball(\n",
    "        row INT, \n",
    "        {cols_text}\n",
    "    );\"\"\"\n",
    "\n",
    "create_postwidetablequery = f\"\"\" \n",
    "    CREATE TABLE gamepostwide(\n",
    "        row INT, \n",
    "        {cols_text}\n",
    "    );\"\"\"\n",
    "\n",
    "# cursor.execute('BEGIN;')\n",
    "# cursor.execute(create_tblquery)\n",
    "# cursor.execute(create_postwidetablequery)\n",
    "# cursor.execute('commit;')"
   ]
  },
  {
   "cell_type": "markdown",
   "metadata": {
    "hidden": true
   },
   "source": [
    "Create steal view for baseball table"
   ]
  },
  {
   "cell_type": "code",
   "execution_count": 213,
   "metadata": {
    "ExecuteTime": {
     "end_time": "2018-07-30T21:43:37.027420Z",
     "start_time": "2018-07-30T21:43:35.795666Z"
    },
    "hidden": true
   },
   "outputs": [],
   "source": [
    "steal_columns = ['gameid', 'daynight', 'venueid', 'venuename', 'venuesurface',\n",
    "            'venueoutfielddistances', 'inningnumber', 'inninghalf', 'inninghalfeventsequencenumber',\n",
    "            'hitterbathand', 'pitcherid', 'pitcherthrowhand', 'pitchtype', 'pitchtypedescription',\n",
    "            'pitchspeed', 'pitchzone', 'pitcherpitchcount', 'hitterpitchcount', 'balls',\n",
    "          'strikes', 'outs', 'homecurrenttotalruns', 'awaycurrenttotalruns',\n",
    "          'rob1_start', 'rob1_end', 'rob1_isout', 'rob1_outcomeid', 'rob1_outcomedescription',\n",
    "          'rob2_start', 'rob2_end', 'rob2_isout', 'rob2_outcomeid', 'rob2_outcomedescription',\n",
    "          'rob3_start', 'rob3_end', 'rob3_isout', 'rob3_outcomeid', 'rob3_outcomedescription',\n",
    "          'is_bunt', 'is_bunt_shown', 'is_double_play', 'is_triple_play', 'is_wild_pitch']\n",
    "steal_columns_str = str(steal_columns).replace('[','').replace(']', '').replace(\"'\", '')\n",
    "\n",
    "create_stealview = f\"\"\"\n",
    "    CREATE VIEW steals AS\n",
    "    (SELECT {steal_columns_str}\n",
    "    FROM baseball\n",
    "    WHERE rob1_outcomeid LIKE '%CS%'\n",
    "    OR rob1_outcomeid LIKE '%SB%'\n",
    "    OR rob2_outcomeid LIKE '%CS%'\n",
    "    OR rob2_outcomeid LIKE '%SB%'\n",
    "    OR rob3_outcomeid LIKE '%CS%'\n",
    "    OR rob3_outcomeid LIKE '%SB%'\n",
    "    ORDER BY gameid, starttime, inningnumber, inninghalfeventsequencenumber);\n",
    "\"\"\"\n",
    "\n",
    "# cursor.execute('BEGIN;')\n",
    "# cursor.execute(create_stealview)\n",
    "# cursor.execute('commit;')\n"
   ]
  },
  {
   "cell_type": "markdown",
   "metadata": {
    "heading_collapsed": true
   },
   "source": [
    "### EDA"
   ]
  },
  {
   "cell_type": "code",
   "execution_count": null,
   "metadata": {
    "ExecuteTime": {
     "end_time": "2018-07-26T23:34:41.681780Z",
     "start_time": "2018-07-26T23:34:41.559987Z"
    },
    "hidden": true
   },
   "outputs": [],
   "source": [
    "cursor.execute('BEGIN;')\n",
    "cursor.close()\n",
    "connection.close()"
   ]
  },
  {
   "cell_type": "markdown",
   "metadata": {
    "hidden": true
   },
   "source": [
    "Below command does not work to find all steals, instead had to look at 'rob_outcomeid' for keywords 'CS' and 'SB'. Ended up creating a steals view incorporating that."
   ]
  },
  {
   "cell_type": "code",
   "execution_count": null,
   "metadata": {
    "ExecuteTime": {
     "end_time": "2018-07-26T23:48:32.028968Z",
     "start_time": "2018-07-26T23:48:00.554211Z"
    },
    "hidden": true
   },
   "outputs": [],
   "source": [
    "query = \"\"\"\n",
    "    SELECT description\n",
    "    FROM baseball\n",
    "    WHERE description LIKE '%steal%'\n",
    "    GROUP BY gameid, description\n",
    "\"\"\""
   ]
  },
  {
   "cell_type": "markdown",
   "metadata": {},
   "source": [
    "### Model Building "
   ]
  },
  {
   "cell_type": "code",
   "execution_count": 3,
   "metadata": {
    "ExecuteTime": {
     "end_time": "2018-07-30T22:48:52.324094Z",
     "start_time": "2018-07-30T22:46:48.934287Z"
    }
   },
   "outputs": [],
   "source": [
    "steal_query = \"\"\"\n",
    "    SELECT *\n",
    "    FROM steals ;\n",
    "\"\"\"\n",
    "steal_df = pd_sql.read_sql(steal_query, connection)\n",
    "steal_df['all_outcomes'] = (steal_df[['rob1_outcomeid', 'rob2_outcomeid', 'rob3_outcomeid']]\n",
    " .fillna('')\n",
    " .apply(lambda x: ''.join(x), axis = 1))\n",
    "\n",
    "# plan to drop any caught stealing rows where pickoffs happen\n",
    "steal_df['is_pickoff'] = steal_df['all_outcomes'].apply(lambda x: 1 if x.find('PO') >= 0 else 0)\n",
    "steal_df = steal_df.where(steal_df['is_pickoff'] == 0).dropna(how = 'all')\n",
    "steal_df.drop(columns = 'is_pickoff', inplace = True)\n",
    "\n",
    "# if both stolen base and caught stealing happen at the same time, will count toward stolen base\n",
    "steal_df['is_steal'] = steal_df['all_outcomes'].apply(lambda x: 1 if x.find('SB') >= 0 else 0)"
   ]
  },
  {
   "cell_type": "code",
   "execution_count": 283,
   "metadata": {
    "ExecuteTime": {
     "end_time": "2018-07-30T22:38:27.522989Z",
     "start_time": "2018-07-30T22:38:27.515529Z"
    }
   },
   "outputs": [
    {
     "data": {
      "text/plain": [
       "Index(['gameid', 'daynight', 'venueid', 'venuename', 'venuesurface',\n",
       "       'venueoutfielddistances', 'inningnumber', 'inninghalf',\n",
       "       'inninghalfeventsequencenumber', 'hitterbathand', 'pitcherid',\n",
       "       'pitcherthrowhand', 'pitchtype', 'pitchtypedescription', 'pitchspeed',\n",
       "       'pitchzone', 'pitcherpitchcount', 'hitterpitchcount', 'balls',\n",
       "       'strikes', 'outs', 'homecurrenttotalruns', 'awaycurrenttotalruns',\n",
       "       'rob1_start', 'rob1_end', 'rob1_isout', 'rob1_outcomeid',\n",
       "       'rob1_outcomedescription', 'rob2_start', 'rob2_end', 'rob2_isout',\n",
       "       'rob2_outcomeid', 'rob2_outcomedescription', 'rob3_start', 'rob3_end',\n",
       "       'rob3_isout', 'rob3_outcomeid', 'rob3_outcomedescription', 'is_bunt',\n",
       "       'is_bunt_shown', 'is_double_play', 'is_triple_play', 'is_wild_pitch',\n",
       "       'all_outcomes', 'is_steal'],\n",
       "      dtype='object')"
      ]
     },
     "execution_count": 283,
     "metadata": {},
     "output_type": "execute_result"
    }
   ],
   "source": [
    "steal_df.columns"
   ]
  },
  {
   "cell_type": "code",
   "execution_count": 136,
   "metadata": {
    "ExecuteTime": {
     "end_time": "2018-07-31T16:40:23.985156Z",
     "start_time": "2018-07-31T16:40:23.953168Z"
    }
   },
   "outputs": [],
   "source": [
    "y = steal_df['is_steal']\n",
    "X = steal_df.iloc[:, :-1]\n",
    "\n",
    "X_train, X_test, y_train, y_test = train_test_split(X, y, test_size = 0.3, random_state = 42, stratify = y)\n",
    "df = pd.concat([X_train, y_train], axis = 1)"
   ]
  },
  {
   "cell_type": "code",
   "execution_count": 137,
   "metadata": {
    "ExecuteTime": {
     "end_time": "2018-07-31T16:40:25.276938Z",
     "start_time": "2018-07-31T16:40:25.110474Z"
    }
   },
   "outputs": [
    {
     "name": "stdout",
     "output_type": "stream",
     "text": [
      "Fastball       1097\n",
      "Slider          378\n",
      "Curveball       266\n",
      "Changeup        232\n",
      "Sinker          148\n",
      "Cutter          105\n",
      "Splitter         42\n",
      "Pitchout         24\n",
      "Knuckleball       6\n",
      "Other             1\n",
      "Name: pitchtypedescription, dtype: int64\n"
     ]
    },
    {
     "data": {
      "text/html": [
       "<div>\n",
       "<style scoped>\n",
       "    .dataframe tbody tr th:only-of-type {\n",
       "        vertical-align: middle;\n",
       "    }\n",
       "\n",
       "    .dataframe tbody tr th {\n",
       "        vertical-align: top;\n",
       "    }\n",
       "\n",
       "    .dataframe thead th {\n",
       "        text-align: right;\n",
       "    }\n",
       "</style>\n",
       "<table border=\"1\" class=\"dataframe\">\n",
       "  <thead>\n",
       "    <tr style=\"text-align: right;\">\n",
       "      <th></th>\n",
       "      <th>inningnumber</th>\n",
       "      <th>pitchspeed</th>\n",
       "      <th>pitchzone</th>\n",
       "      <th>pitcherpitchcount</th>\n",
       "      <th>hitterpitchcount</th>\n",
       "      <th>balls</th>\n",
       "      <th>strikes</th>\n",
       "      <th>outs</th>\n",
       "      <th>homecurrenttotalruns</th>\n",
       "      <th>awaycurrenttotalruns</th>\n",
       "      <th>...</th>\n",
       "      <th>is_rob2</th>\n",
       "      <th>is_rob3</th>\n",
       "      <th>is_FA</th>\n",
       "      <th>is_SL</th>\n",
       "      <th>is_CU</th>\n",
       "      <th>is_CH</th>\n",
       "      <th>is_SI</th>\n",
       "      <th>is_CT</th>\n",
       "      <th>is_SP</th>\n",
       "      <th>is_PI</th>\n",
       "    </tr>\n",
       "  </thead>\n",
       "  <tbody>\n",
       "    <tr>\n",
       "      <th>3455</th>\n",
       "      <td>6.0</td>\n",
       "      <td>82.0</td>\n",
       "      <td>10.0</td>\n",
       "      <td>5.0</td>\n",
       "      <td>4.0</td>\n",
       "      <td>2.0</td>\n",
       "      <td>2.0</td>\n",
       "      <td>1.0</td>\n",
       "      <td>3.0</td>\n",
       "      <td>1.0</td>\n",
       "      <td>...</td>\n",
       "      <td>0</td>\n",
       "      <td>0</td>\n",
       "      <td>0</td>\n",
       "      <td>0</td>\n",
       "      <td>1</td>\n",
       "      <td>0</td>\n",
       "      <td>0</td>\n",
       "      <td>0</td>\n",
       "      <td>0</td>\n",
       "      <td>0</td>\n",
       "    </tr>\n",
       "    <tr>\n",
       "      <th>1216</th>\n",
       "      <td>8.0</td>\n",
       "      <td>96.0</td>\n",
       "      <td>10.0</td>\n",
       "      <td>5.0</td>\n",
       "      <td>1.0</td>\n",
       "      <td>1.0</td>\n",
       "      <td>0.0</td>\n",
       "      <td>2.0</td>\n",
       "      <td>2.0</td>\n",
       "      <td>0.0</td>\n",
       "      <td>...</td>\n",
       "      <td>0</td>\n",
       "      <td>0</td>\n",
       "      <td>1</td>\n",
       "      <td>0</td>\n",
       "      <td>0</td>\n",
       "      <td>0</td>\n",
       "      <td>0</td>\n",
       "      <td>0</td>\n",
       "      <td>0</td>\n",
       "      <td>0</td>\n",
       "    </tr>\n",
       "    <tr>\n",
       "      <th>824</th>\n",
       "      <td>2.0</td>\n",
       "      <td>79.0</td>\n",
       "      <td>10.0</td>\n",
       "      <td>24.0</td>\n",
       "      <td>3.0</td>\n",
       "      <td>2.0</td>\n",
       "      <td>1.0</td>\n",
       "      <td>2.0</td>\n",
       "      <td>0.0</td>\n",
       "      <td>0.0</td>\n",
       "      <td>...</td>\n",
       "      <td>0</td>\n",
       "      <td>0</td>\n",
       "      <td>0</td>\n",
       "      <td>0</td>\n",
       "      <td>1</td>\n",
       "      <td>0</td>\n",
       "      <td>0</td>\n",
       "      <td>0</td>\n",
       "      <td>0</td>\n",
       "      <td>0</td>\n",
       "    </tr>\n",
       "    <tr>\n",
       "      <th>274</th>\n",
       "      <td>5.0</td>\n",
       "      <td>92.0</td>\n",
       "      <td>12.0</td>\n",
       "      <td>81.0</td>\n",
       "      <td>2.0</td>\n",
       "      <td>2.0</td>\n",
       "      <td>0.0</td>\n",
       "      <td>1.0</td>\n",
       "      <td>0.0</td>\n",
       "      <td>2.0</td>\n",
       "      <td>...</td>\n",
       "      <td>0</td>\n",
       "      <td>0</td>\n",
       "      <td>1</td>\n",
       "      <td>0</td>\n",
       "      <td>0</td>\n",
       "      <td>0</td>\n",
       "      <td>0</td>\n",
       "      <td>0</td>\n",
       "      <td>0</td>\n",
       "      <td>0</td>\n",
       "    </tr>\n",
       "    <tr>\n",
       "      <th>3541</th>\n",
       "      <td>1.0</td>\n",
       "      <td>89.0</td>\n",
       "      <td>11.0</td>\n",
       "      <td>19.0</td>\n",
       "      <td>3.0</td>\n",
       "      <td>1.0</td>\n",
       "      <td>2.0</td>\n",
       "      <td>3.0</td>\n",
       "      <td>2.0</td>\n",
       "      <td>0.0</td>\n",
       "      <td>...</td>\n",
       "      <td>0</td>\n",
       "      <td>0</td>\n",
       "      <td>0</td>\n",
       "      <td>0</td>\n",
       "      <td>0</td>\n",
       "      <td>0</td>\n",
       "      <td>0</td>\n",
       "      <td>0</td>\n",
       "      <td>0</td>\n",
       "      <td>1</td>\n",
       "    </tr>\n",
       "  </tbody>\n",
       "</table>\n",
       "<p>5 rows × 32 columns</p>\n",
       "</div>"
      ],
      "text/plain": [
       "      inningnumber  pitchspeed  pitchzone  pitcherpitchcount  \\\n",
       "3455           6.0        82.0       10.0                5.0   \n",
       "1216           8.0        96.0       10.0                5.0   \n",
       "824            2.0        79.0       10.0               24.0   \n",
       "274            5.0        92.0       12.0               81.0   \n",
       "3541           1.0        89.0       11.0               19.0   \n",
       "\n",
       "      hitterpitchcount  balls  strikes  outs  homecurrenttotalruns  \\\n",
       "3455               4.0    2.0      2.0   1.0                   3.0   \n",
       "1216               1.0    1.0      0.0   2.0                   2.0   \n",
       "824                3.0    2.0      1.0   2.0                   0.0   \n",
       "274                2.0    2.0      0.0   1.0                   0.0   \n",
       "3541               3.0    1.0      2.0   3.0                   2.0   \n",
       "\n",
       "      awaycurrenttotalruns  ...    is_rob2  is_rob3  is_FA  is_SL  is_CU  \\\n",
       "3455                   1.0  ...          0        0      0      0      1   \n",
       "1216                   0.0  ...          0        0      1      0      0   \n",
       "824                    0.0  ...          0        0      0      0      1   \n",
       "274                    2.0  ...          0        0      1      0      0   \n",
       "3541                   0.0  ...          0        0      0      0      0   \n",
       "\n",
       "      is_CH  is_SI  is_CT  is_SP  is_PI  \n",
       "3455      0      0      0      0      0  \n",
       "1216      0      0      0      0      0  \n",
       "824       0      0      0      0      0  \n",
       "274       0      0      0      0      0  \n",
       "3541      0      0      0      0      1  \n",
       "\n",
       "[5 rows x 32 columns]"
      ]
     },
     "execution_count": 137,
     "metadata": {},
     "output_type": "execute_result"
    }
   ],
   "source": [
    "df['is_day'] = df['daynight'].apply(lambda x: 1 if x == 'N' else 0)\n",
    "df['is_grass'] = df['venuesurface'].apply(lambda x: 1 if x == 'grass' else 0)\n",
    "df['is_home'] = df['inninghalf'].apply(lambda x: 1 if x == 'BOT' else 0)\n",
    "df['is_batterR'] = df['hitterbathand'].apply(lambda x: 1 if x == 'R' else 0)\n",
    "df['is_batterL'] = df['hitterbathand'].apply(lambda x: 1 if x == 'L' else 0)\n",
    "df['is_pitcherR'] = df['pitcherthrowhand'].apply(lambda x: 1 if x == 'R' else 0)\n",
    "df['all_onbase'] = df[['rob1_end', 'rob2_end', 'rob3_end']].apply(lambda x: tuple(x), axis = 1)\n",
    "df['is_rob1'] = df['all_onbase'].apply(lambda x: 1 if x[0] > 1 else 0)\n",
    "df['is_rob2'] = df['all_onbase'].apply(lambda x: 1 if x[0] > 2 else 0)\n",
    "df['is_rob3'] = df['all_onbase'].apply(lambda x: 1 if x[0] > 3 else 0)\n",
    "\n",
    "# Going to put forkball in other\n",
    "print(df.pitchtypedescription.value_counts())\n",
    "pitch_types = ['FA', 'SL', 'CU', 'CH', 'SI', 'CT', 'SP', 'PI']\n",
    "for pt in pitch_types:\n",
    "    df[f'is_{pt}'] = df['pitchtype'].apply(lambda x: 1 if x == pt else 0)\n",
    "    \n",
    "drop_cols = ['gameid', 'daynight', 'venueid', 'venuename', 'venuesurface',\n",
    "            'venueoutfielddistances', 'inninghalf', 'inninghalfeventsequencenumber', 'hitterbathand',\n",
    "            'pitcherid', 'pitcherthrowhand', 'pitchtype', 'pitchtypedescription',\n",
    "            'rob1_start', 'rob1_end', 'rob1_isout', 'rob1_outcomeid', 'rob1_outcomedescription',\n",
    "            'rob2_start', 'rob2_end', 'rob2_isout', 'rob2_outcomeid', 'rob2_outcomedescription',\n",
    "            'rob3_start', 'rob3_end', 'rob3_isout', 'rob3_outcomeid', 'rob3_outcomedescription',\n",
    "            'all_outcomes', 'all_onbase', 'is_steal']\n",
    "\n",
    "df.drop(columns = drop_cols, inplace = True)\n",
    "df.head()"
   ]
  },
  {
   "cell_type": "markdown",
   "metadata": {
    "ExecuteTime": {
     "end_time": "2018-07-31T03:57:54.574175Z",
     "start_time": "2018-07-31T03:57:54.566862Z"
    }
   },
   "source": [
    "#### Baseline\n",
    "Create baseline model where accuracy is compared to if model just guessed a successful base steal everytime."
   ]
  },
  {
   "cell_type": "code",
   "execution_count": 139,
   "metadata": {
    "ExecuteTime": {
     "end_time": "2018-07-31T16:40:29.750045Z",
     "start_time": "2018-07-31T16:40:29.715194Z"
    }
   },
   "outputs": [
    {
     "data": {
      "text/html": [
       "<div>\n",
       "<style scoped>\n",
       "    .dataframe tbody tr th:only-of-type {\n",
       "        vertical-align: middle;\n",
       "    }\n",
       "\n",
       "    .dataframe tbody tr th {\n",
       "        vertical-align: top;\n",
       "    }\n",
       "\n",
       "    .dataframe thead th {\n",
       "        text-align: right;\n",
       "    }\n",
       "</style>\n",
       "<table border=\"1\" class=\"dataframe\">\n",
       "  <thead>\n",
       "    <tr style=\"text-align: right;\">\n",
       "      <th></th>\n",
       "      <th>inningnumber</th>\n",
       "      <th>pitchspeed</th>\n",
       "      <th>pitchzone</th>\n",
       "      <th>pitcherpitchcount</th>\n",
       "      <th>hitterpitchcount</th>\n",
       "      <th>balls</th>\n",
       "      <th>strikes</th>\n",
       "      <th>outs</th>\n",
       "      <th>homecurrenttotalruns</th>\n",
       "      <th>awaycurrenttotalruns</th>\n",
       "      <th>...</th>\n",
       "      <th>is_rob2</th>\n",
       "      <th>is_rob3</th>\n",
       "      <th>is_FA</th>\n",
       "      <th>is_SL</th>\n",
       "      <th>is_CU</th>\n",
       "      <th>is_CH</th>\n",
       "      <th>is_SI</th>\n",
       "      <th>is_CT</th>\n",
       "      <th>is_SP</th>\n",
       "      <th>is_PI</th>\n",
       "    </tr>\n",
       "  </thead>\n",
       "  <tbody>\n",
       "    <tr>\n",
       "      <th>0</th>\n",
       "      <td>0.497138</td>\n",
       "      <td>-0.186822</td>\n",
       "      <td>0.132077</td>\n",
       "      <td>-1.032638</td>\n",
       "      <td>0.626514</td>\n",
       "      <td>0.551725</td>\n",
       "      <td>0.748792</td>\n",
       "      <td>-0.582528</td>\n",
       "      <td>0.476592</td>\n",
       "      <td>-0.459862</td>\n",
       "      <td>...</td>\n",
       "      <td>-0.202825</td>\n",
       "      <td>-0.029007</td>\n",
       "      <td>-0.925037</td>\n",
       "      <td>-0.434633</td>\n",
       "      <td>2.818441</td>\n",
       "      <td>-0.328721</td>\n",
       "      <td>-0.257562</td>\n",
       "      <td>-0.214882</td>\n",
       "      <td>-0.134059</td>\n",
       "      <td>-0.100951</td>\n",
       "    </tr>\n",
       "    <tr>\n",
       "      <th>1</th>\n",
       "      <td>1.251647</td>\n",
       "      <td>0.632438</td>\n",
       "      <td>0.132077</td>\n",
       "      <td>-1.032638</td>\n",
       "      <td>-1.011373</td>\n",
       "      <td>-0.471310</td>\n",
       "      <td>-1.415699</td>\n",
       "      <td>0.565636</td>\n",
       "      <td>0.001995</td>\n",
       "      <td>-0.940114</td>\n",
       "      <td>...</td>\n",
       "      <td>-0.202825</td>\n",
       "      <td>-0.029007</td>\n",
       "      <td>1.081037</td>\n",
       "      <td>-0.434633</td>\n",
       "      <td>-0.354806</td>\n",
       "      <td>-0.328721</td>\n",
       "      <td>-0.257562</td>\n",
       "      <td>-0.214882</td>\n",
       "      <td>-0.134059</td>\n",
       "      <td>-0.100951</td>\n",
       "    </tr>\n",
       "    <tr>\n",
       "      <th>2</th>\n",
       "      <td>-1.011879</td>\n",
       "      <td>-0.362377</td>\n",
       "      <td>0.132077</td>\n",
       "      <td>-0.366510</td>\n",
       "      <td>0.080552</td>\n",
       "      <td>0.551725</td>\n",
       "      <td>-0.333454</td>\n",
       "      <td>0.565636</td>\n",
       "      <td>-0.947199</td>\n",
       "      <td>-0.940114</td>\n",
       "      <td>...</td>\n",
       "      <td>-0.202825</td>\n",
       "      <td>-0.029007</td>\n",
       "      <td>-0.925037</td>\n",
       "      <td>-0.434633</td>\n",
       "      <td>2.818441</td>\n",
       "      <td>-0.328721</td>\n",
       "      <td>-0.257562</td>\n",
       "      <td>-0.214882</td>\n",
       "      <td>-0.134059</td>\n",
       "      <td>-0.100951</td>\n",
       "    </tr>\n",
       "    <tr>\n",
       "      <th>3</th>\n",
       "      <td>0.119884</td>\n",
       "      <td>0.398364</td>\n",
       "      <td>0.685753</td>\n",
       "      <td>1.631875</td>\n",
       "      <td>-0.465411</td>\n",
       "      <td>0.551725</td>\n",
       "      <td>-1.415699</td>\n",
       "      <td>-0.582528</td>\n",
       "      <td>-0.947199</td>\n",
       "      <td>0.020389</td>\n",
       "      <td>...</td>\n",
       "      <td>-0.202825</td>\n",
       "      <td>-0.029007</td>\n",
       "      <td>1.081037</td>\n",
       "      <td>-0.434633</td>\n",
       "      <td>-0.354806</td>\n",
       "      <td>-0.328721</td>\n",
       "      <td>-0.257562</td>\n",
       "      <td>-0.214882</td>\n",
       "      <td>-0.134059</td>\n",
       "      <td>-0.100951</td>\n",
       "    </tr>\n",
       "    <tr>\n",
       "      <th>4</th>\n",
       "      <td>-1.389133</td>\n",
       "      <td>0.222808</td>\n",
       "      <td>0.408915</td>\n",
       "      <td>-0.541807</td>\n",
       "      <td>0.080552</td>\n",
       "      <td>-0.471310</td>\n",
       "      <td>0.748792</td>\n",
       "      <td>1.713801</td>\n",
       "      <td>0.001995</td>\n",
       "      <td>-0.940114</td>\n",
       "      <td>...</td>\n",
       "      <td>-0.202825</td>\n",
       "      <td>-0.029007</td>\n",
       "      <td>-0.925037</td>\n",
       "      <td>-0.434633</td>\n",
       "      <td>-0.354806</td>\n",
       "      <td>-0.328721</td>\n",
       "      <td>-0.257562</td>\n",
       "      <td>-0.214882</td>\n",
       "      <td>-0.134059</td>\n",
       "      <td>9.905806</td>\n",
       "    </tr>\n",
       "  </tbody>\n",
       "</table>\n",
       "<p>5 rows × 32 columns</p>\n",
       "</div>"
      ],
      "text/plain": [
       "   inningnumber  pitchspeed  pitchzone  pitcherpitchcount  hitterpitchcount  \\\n",
       "0      0.497138   -0.186822   0.132077          -1.032638          0.626514   \n",
       "1      1.251647    0.632438   0.132077          -1.032638         -1.011373   \n",
       "2     -1.011879   -0.362377   0.132077          -0.366510          0.080552   \n",
       "3      0.119884    0.398364   0.685753           1.631875         -0.465411   \n",
       "4     -1.389133    0.222808   0.408915          -0.541807          0.080552   \n",
       "\n",
       "      balls   strikes      outs  homecurrenttotalruns  awaycurrenttotalruns  \\\n",
       "0  0.551725  0.748792 -0.582528              0.476592             -0.459862   \n",
       "1 -0.471310 -1.415699  0.565636              0.001995             -0.940114   \n",
       "2  0.551725 -0.333454  0.565636             -0.947199             -0.940114   \n",
       "3  0.551725 -1.415699 -0.582528             -0.947199              0.020389   \n",
       "4 -0.471310  0.748792  1.713801              0.001995             -0.940114   \n",
       "\n",
       "     ...      is_rob2   is_rob3     is_FA     is_SL     is_CU     is_CH  \\\n",
       "0    ...    -0.202825 -0.029007 -0.925037 -0.434633  2.818441 -0.328721   \n",
       "1    ...    -0.202825 -0.029007  1.081037 -0.434633 -0.354806 -0.328721   \n",
       "2    ...    -0.202825 -0.029007 -0.925037 -0.434633  2.818441 -0.328721   \n",
       "3    ...    -0.202825 -0.029007  1.081037 -0.434633 -0.354806 -0.328721   \n",
       "4    ...    -0.202825 -0.029007 -0.925037 -0.434633 -0.354806 -0.328721   \n",
       "\n",
       "      is_SI     is_CT     is_SP     is_PI  \n",
       "0 -0.257562 -0.214882 -0.134059 -0.100951  \n",
       "1 -0.257562 -0.214882 -0.134059 -0.100951  \n",
       "2 -0.257562 -0.214882 -0.134059 -0.100951  \n",
       "3 -0.257562 -0.214882 -0.134059 -0.100951  \n",
       "4 -0.257562 -0.214882 -0.134059  9.905806  \n",
       "\n",
       "[5 rows x 32 columns]"
      ]
     },
     "execution_count": 139,
     "metadata": {},
     "output_type": "execute_result"
    }
   ],
   "source": [
    "ssX = StandardScaler()\n",
    "X_train_scaled = ssX.fit_transform(df)\n",
    "X_train_scaled = pd.DataFrame(X_train_scaled, columns = df.columns)\n",
    "X_train_scaled.head()"
   ]
  },
  {
   "cell_type": "code",
   "execution_count": 176,
   "metadata": {
    "ExecuteTime": {
     "end_time": "2018-07-31T17:15:52.287750Z",
     "start_time": "2018-07-31T17:15:52.277504Z"
    }
   },
   "outputs": [
    {
     "name": "stdout",
     "output_type": "stream",
     "text": [
      "The baseline accuracy is: 0.6196\n",
      "The baseline precision is: 0.7419\n"
     ]
    }
   ],
   "source": [
    "DC = DummyClassifier(random_state = 42)\n",
    "DC.fit(X_train_scaled, y_train)\n",
    "dummy_predict = DC.predict(X_train_scaled)\n",
    "dummy_acc = np.round(accuracy_score(y_train, dummy_predict), 4)\n",
    "dummy_pre = np.round(precision_score(y_train, dummy_predict), 4)\n",
    "print(f'The baseline accuracy is: {dummy_acc}')\n",
    "print(f'The baseline precision is: {dummy_pre}')"
   ]
  },
  {
   "cell_type": "code",
   "execution_count": 140,
   "metadata": {
    "ExecuteTime": {
     "end_time": "2018-07-31T16:40:34.979359Z",
     "start_time": "2018-07-31T16:40:34.941365Z"
    }
   },
   "outputs": [
    {
     "name": "stdout",
     "output_type": "stream",
     "text": [
      "The base LR accuracy is: 0.9277\n",
      "The base LR precision is: 0.966\n"
     ]
    }
   ],
   "source": [
    "LR = LogisticRegression(random_state = 42)\n",
    "LR.fit(X_train_scaled, y_train)\n",
    "y_predict = LR.predict(X_train_scaled)\n",
    "y_predictprob = LR.predict_proba(X_train_scaled)[:, 1]\n",
    "LR_acc = np.round(accuracy_score(y_train, y_predict), 4)\n",
    "LR_pre = np.round(precision_score(y_train, y_predict), 4)\n",
    "print(f'The base LR accuracy is: {LR_acc}')\n",
    "print(f'The base LR precision is: {LR_pre}')"
   ]
  },
  {
   "cell_type": "code",
   "execution_count": 172,
   "metadata": {
    "ExecuteTime": {
     "end_time": "2018-07-31T17:13:16.569577Z",
     "start_time": "2018-07-31T17:13:15.701367Z"
    }
   },
   "outputs": [
    {
     "data": {
      "image/png": "[encoded data removed]",
      "text/plain": [
       "<Figure size 432x288 with 1 Axes>"
      ]
     },
     "metadata": {},
     "output_type": "display_data"
    }
   ],
   "source": [
    "m, train_err, test_err = learning_curve(LR, X_train_scaled, y_train, cv = 10, scoring = 'accuracy', random_state = 42)\n",
    "m_trainerr = np.mean(train_err, axis = 1)\n",
    "m_testerr = np.mean(test_err, axis = 1)\n",
    "plt.plot(m, m_trainerr, 'k', m, m_testerr, 'r')\n",
    "plt.legend(['Training Error', 'Test Error']);"
   ]
  },
  {
   "cell_type": "code",
   "execution_count": 160,
   "metadata": {
    "ExecuteTime": {
     "end_time": "2018-07-31T17:01:48.914326Z",
     "start_time": "2018-07-31T17:01:39.346489Z"
    }
   },
   "outputs": [],
   "source": [
    "base = np.round(np.mean(\n",
    "            cross_val_score(LR, X_train_scaled, y_train, scoring = 'precision', cv = 10)), 5)\n",
    "notuseful_cols = []\n",
    "for i in X_train_scaled.columns:\n",
    "    dummyX = deepcopy(X_train_scaled)\n",
    "    dummycol = dummyX[i]\n",
    "    dummyX = dummyX.drop(columns = i)\n",
    "    np.random.seed(seed = 42)\n",
    "    np.random.shuffle(dummycol)\n",
    "    dummyX[i] = dummycol\n",
    "    acc_cval = np.round(np.mean(\n",
    "            cross_val_score(LR, dummyX, y_train, scoring = 'precision', cv = 10)), 5)\n",
    "    delta = np.round(base - acc_cval, 5)\n",
    "    if abs(delta) < 0.001:\n",
    "        notuseful_cols.append(i)\n",
    "    #print(f'Cval Precision Shuffle {i}: {acc_cval}')\n",
    "    #print(f'Delta {i}: {delta}')\n",
    "\n",
    "dummyX2 = deepcopy(X_train_scaled)\n",
    "dummyX2.drop(columns = notuseful_cols, inplace = True)"
   ]
  },
  {
   "cell_type": "code",
   "execution_count": 161,
   "metadata": {
    "ExecuteTime": {
     "end_time": "2018-07-31T17:01:49.807806Z",
     "start_time": "2018-07-31T17:01:49.593653Z"
    }
   },
   "outputs": [
    {
     "name": "stdout",
     "output_type": "stream",
     "text": [
      "The base LR accuracy is: 0.91552\n",
      "The base LR precision is: 0.96409\n"
     ]
    }
   ],
   "source": [
    "LR_acc = np.round(np.mean(cross_val_score(LR, dummyX2, y_train, scoring = 'accuracy', cv = 10)), 5)\n",
    "LR_pre = np.round(np.mean(cross_val_score(LR, dummyX2, y_train, scoring = 'precision', cv = 10)), 5)\n",
    "print(f'The base LR accuracy is: {LR_acc}')\n",
    "print(f'The base LR precision is: {LR_pre}')"
   ]
  },
  {
   "cell_type": "code",
   "execution_count": 162,
   "metadata": {
    "ExecuteTime": {
     "end_time": "2018-07-31T17:02:01.255745Z",
     "start_time": "2018-07-31T17:02:01.248214Z"
    }
   },
   "outputs": [
    {
     "data": {
      "text/plain": [
       "[('pitchzone', -0.15563175028369658),\n",
       " ('hitterpitchcount', 0.22883170657208726),\n",
       " ('strikes', -0.21364221804600522),\n",
       " ('outs', -0.08160463363056049),\n",
       " ('homecurrenttotalruns', -0.04515372039595183),\n",
       " ('awaycurrenttotalruns', 0.2703095941818198),\n",
       " ('is_day', 0.0787307449793942),\n",
       " ('is_batterR', -1.211811817863262),\n",
       " ('is_rob1', 0.2369740699558883),\n",
       " ('is_rob2', 0.15891063164951477),\n",
       " ('is_FA', 0.023310994593968005),\n",
       " ('is_CU', -0.13542346025382532),\n",
       " ('is_CT', -1.4159921462456877)]"
      ]
     },
     "execution_count": 162,
     "metadata": {},
     "output_type": "execute_result"
    }
   ],
   "source": [
    "[(i, j) for i, j in zip(dummyX2.columns, LR.coef_[0])]"
   ]
  },
  {
   "cell_type": "code",
   "execution_count": 171,
   "metadata": {
    "ExecuteTime": {
     "end_time": "2018-07-31T17:13:01.427031Z",
     "start_time": "2018-07-31T17:13:00.907389Z"
    }
   },
   "outputs": [
    {
     "data": {
      "image/png": "[encoded data removed]",
      "text/plain": [
       "<Figure size 432x288 with 1 Axes>"
      ]
     },
     "metadata": {},
     "output_type": "display_data"
    }
   ],
   "source": [
    "m, train_err, test_err = learning_curve(LR, dummyX2, y_train, cv = 10, scoring = 'accuracy', random_state = 42)\n",
    "m_trainerr = np.mean(train_err, axis = 1)\n",
    "m_testerr = np.mean(test_err, axis = 1)\n",
    "plt.plot(m, m_trainerr, 'k', m, m_testerr, 'r')\n",
    "plt.legend(['Training Error', 'Test Error']);"
   ]
  },
  {
   "cell_type": "code",
   "execution_count": 109,
   "metadata": {
    "ExecuteTime": {
     "end_time": "2018-07-31T15:56:33.087629Z",
     "start_time": "2018-07-31T15:56:32.920143Z"
    }
   },
   "outputs": [
    {
     "data": {
      "text/plain": [
       "0.9728608708818369"
      ]
     },
     "execution_count": 109,
     "metadata": {},
     "output_type": "execute_result"
    },
    {
     "data": {
      "image/png": "[encoded data removed]",
      "text/plain": [
       "<Figure size 432x288 with 1 Axes>"
      ]
     },
     "metadata": {},
     "output_type": "display_data"
    }
   ],
   "source": [
    "fpr, tpr, thr = roc_curve(y_train, y_predictprob)\n",
    "plt.plot(fpr, tpr)\n",
    "roc_auc_score(y_train, y_predictprob)"
   ]
  },
  {
   "cell_type": "code",
   "execution_count": 111,
   "metadata": {
    "ExecuteTime": {
     "end_time": "2018-07-31T15:57:09.321251Z",
     "start_time": "2018-07-31T15:57:09.297999Z"
    }
   },
   "outputs": [
    {
     "data": {
      "text/plain": [
       "array([[ 593,   56],\n",
       "       [ 123, 1607]])"
      ]
     },
     "execution_count": 111,
     "metadata": {},
     "output_type": "execute_result"
    }
   ],
   "source": [
    "confusion_matrix(y_train, y_predict)"
   ]
  },
  {
   "cell_type": "markdown",
   "metadata": {},
   "source": [
    "https://cdn.vox-cdn.com/thumbor/EM3yroQxwmwa5faTVBM4mrtsYOY=/0x0:339x341/1200x0/filters:focal(0x0:339x341)/cdn.vox-cdn.com/uploads/chorus_asset/file/3374666/Strike_Zone.0.png\n"
   ]
  }
 ],
 "metadata": {
  "kernelspec": {
   "display_name": "Python 3",
   "language": "python",
   "name": "python3"
  },
  "language_info": {
   "codemirror_mode": {
    "name": "ipython",
    "version": 3
   },
   "file_extension": ".py",
   "mimetype": "text/x-python",
   "name": "python",
   "nbconvert_exporter": "python",
   "pygments_lexer": "ipython3",
   "version": "3.6.5"
  },
  "varInspector": {
   "cols": {
    "lenName": 16,
    "lenType": 16,
    "lenVar": 40
   },
   "kernels_config": {
    "python": {
     "delete_cmd_postfix": "",
     "delete_cmd_prefix": "del ",
     "library": "var_list.py",
     "varRefreshCmd": "print(var_dic_list())"
    },
    "r": {
     "delete_cmd_postfix": ") ",
     "delete_cmd_prefix": "rm(",
     "library": "var_list.r",
     "varRefreshCmd": "cat(var_dic_list()) "
    }
   },
   "types_to_exclude": [
    "module",
    "function",
    "builtin_function_or_method",
    "instance",
    "_Feature"
   ],
   "window_display": false
  }
 },
 "nbformat": 4,
 "nbformat_minor": 2
}
